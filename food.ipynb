{
 "cells": [
  {
   "cell_type": "markdown",
   "metadata": {},
   "source": [
    "# 場所+ファストフードでGoogle検索する"
   ]
  },
  {
   "cell_type": "code",
   "execution_count": 2,
   "metadata": {},
   "outputs": [
    {
     "name": "stdout",
     "output_type": "stream",
     "text": "福岡 マクドナルド - Google 検索\n福岡 サイゼリア - Google 検索\n福岡 吉野家 - Google 検索\n福岡 ケンタッキー - Google 検索\n福岡 モスバーガー - Google 検索\n"
    }
   ],
   "source": [
    "# browser_auto_foods.py\n",
    "from selenium import webdriver\n",
    "from selenium.webdriver.common.keys import Keys\n",
    "\n",
    "location = input(\"場所入力：\")\n",
    "favorite_foods = [\"マクドナルド\", \"サイゼリア\", \"吉野家\", \"ケンタッキー\", \"モスバーガー\"]\n",
    "\n",
    "chrome = webdriver.Chrome(\"./mac/chromedriver-v79\")\n",
    "\n",
    "for i, food in enumerate(favorite_foods):\n",
    "    if i > 0:\n",
    "        # 新しいタブ\n",
    "        chrome.execute_script(\"window.open('','_blank');\")\n",
    "        chrome.switch_to.window(chrome.window_handles[i])\n",
    "\n",
    "    # グーグルを開く\n",
    "    chrome.get(\"https://www.google.co.jp\")\n",
    "\n",
    "    # 検索ワード入力\n",
    "    search_box = chrome.find_element_by_name(\"q\")\n",
    "    search_words = location, food\n",
    "    search_box.send_keys(\" \".join(search_words))\n",
    "\n",
    "    # 検索実行\n",
    "    search_box.send_keys(Keys.RETURN)\n",
    "    print(chrome.title)\n",
    "\n",
    "# 先頭のタブに戻る\n",
    "chrome.switch_to.window(chrome.window_handles[0])"
   ]
  },
  {
   "cell_type": "markdown",
   "metadata": {},
   "source": [
    "# 今いる場所でファストフードを検索"
   ]
  },
  {
   "cell_type": "code",
   "execution_count": 4,
   "metadata": {
    "ExecuteTime": {
     "end_time": "2020-02-08T13:24:50.111492Z",
     "start_time": "2020-02-08T13:24:39.268517Z"
    }
   },
   "outputs": [
    {
     "name": "stdout",
     "output_type": "stream",
     "text": [
      "Fukuoka\n",
      "Fukuoka マクドナルド - Google 検索\n",
      "Fukuoka サイゼリア - Google 検索\n",
      "Fukuoka 吉野家 - Google 検索\n",
      "Fukuoka ケンタッキー - Google 検索\n",
      "Fukuoka モスバーガー - Google 検索\n"
     ]
    }
   ],
   "source": [
    "import requests\n",
    "from selenium import webdriver\n",
    "from selenium.webdriver.common.keys import Keys\n",
    "geo_request_url = 'https://get.geojs.io/v1/ip/geo.json'\n",
    "geo_data = requests.get(geo_request_url).json()\n",
    "print(geo_data['city'])\n",
    "location = geo_data['city']\n",
    "favorite_foods = [\"マクドナルド\", \"サイゼリア\", \"吉野家\", \"ケンタッキー\", \"モスバーガー\"]\n",
    "\n",
    "chrome = webdriver.Chrome(\"./mac/chromedriver-v79\")\n",
    "\n",
    "for i, food in enumerate(favorite_foods):\n",
    "    if i > 0:\n",
    "        # 新しいタブ\n",
    "        chrome.execute_script(\"window.open('','_blank');\")\n",
    "        chrome.switch_to.window(chrome.window_handles[i])\n",
    "\n",
    "    # グーグルを開く\n",
    "    chrome.get(\"https://www.google.co.jp\")\n",
    "\n",
    "    # 検索ワード入力\n",
    "    search_box = chrome.find_element_by_name(\"q\")\n",
    "    search_words = location, food\n",
    "    search_box.send_keys(\" \".join(search_words))\n",
    "\n",
    "    # 検索実行\n",
    "    search_box.send_keys(Keys.RETURN)\n",
    "    print(chrome.title)\n",
    "\n",
    "# 先頭のタブに戻る\n",
    "chrome.switch_to.window(chrome.window_handles[0])"
   ]
  }
 ],
 "metadata": {
  "kernelspec": {
   "display_name": "Python 3",
   "language": "python",
   "name": "python3"
  },
  "language_info": {
   "codemirror_mode": {
    "name": "ipython",
    "version": 3
   },
   "file_extension": ".py",
   "mimetype": "text/x-python",
   "name": "python",
   "nbconvert_exporter": "python",
   "pygments_lexer": "ipython3",
   "version": "3.7.3-final"
  },
  "varInspector": {
   "cols": {
    "lenName": 16,
    "lenType": 16,
    "lenVar": 40
   },
   "kernels_config": {
    "python": {
     "delete_cmd_postfix": "",
     "delete_cmd_prefix": "del ",
     "library": "var_list.py",
     "varRefreshCmd": "print(var_dic_list())"
    },
    "r": {
     "delete_cmd_postfix": ") ",
     "delete_cmd_prefix": "rm(",
     "library": "var_list.r",
     "varRefreshCmd": "cat(var_dic_list()) "
    }
   },
   "types_to_exclude": [
    "module",
    "function",
    "builtin_function_or_method",
    "instance",
    "_Feature"
   ],
   "window_display": false
  }
 },
 "nbformat": 4,
 "nbformat_minor": 2
}